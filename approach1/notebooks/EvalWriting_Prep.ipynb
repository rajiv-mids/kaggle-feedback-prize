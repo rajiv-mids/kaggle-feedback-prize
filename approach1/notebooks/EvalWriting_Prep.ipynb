{
 "cells": [
  {
   "cell_type": "code",
   "execution_count": 1,
   "metadata": {},
   "outputs": [
    {
     "name": "stderr",
     "output_type": "stream",
     "text": [
      "[nltk_data] Downloading package punkt to\n",
      "[nltk_data]     C:\\Users\\rajiv\\AppData\\Roaming\\nltk_data...\n",
      "[nltk_data]   Package punkt is already up-to-date!\n"
     ]
    },
    {
     "data": {
      "text/plain": [
       "True"
      ]
     },
     "execution_count": 1,
     "metadata": {},
     "output_type": "execute_result"
    }
   ],
   "source": [
    "import numpy as np\n",
    "import pandas as pd\n",
    "import nltk\n",
    "import random\n",
    "from transformers import BertTokenizer\n",
    "import torch\n",
    "import os\n",
    "from sklearn import preprocessing\n",
    "\n",
    "nltk.download('punkt')"
   ]
  },
  {
   "cell_type": "code",
   "execution_count": 2,
   "metadata": {},
   "outputs": [],
   "source": [
    "df = pd.read_csv(\"../data/train.csv\")\n",
    "le = preprocessing.LabelEncoder()\n",
    "le.fit(df.id)\n",
    "df['f_id'] = le.transform(df.id)\n",
    "df.head()\n",
    "f_mapping = df[[\"id\", \"f_id\"]].drop_duplicates()\n",
    "f_mapping.to_csv(\"../inputs/f_mapping.csv\")"
   ]
  },
  {
   "cell_type": "code",
   "execution_count": 3,
   "metadata": {},
   "outputs": [
    {
     "data": {
      "text/html": [
       "<div>\n",
       "<style scoped>\n",
       "    .dataframe tbody tr th:only-of-type {\n",
       "        vertical-align: middle;\n",
       "    }\n",
       "\n",
       "    .dataframe tbody tr th {\n",
       "        vertical-align: top;\n",
       "    }\n",
       "\n",
       "    .dataframe thead th {\n",
       "        text-align: right;\n",
       "    }\n",
       "</style>\n",
       "<table border=\"1\" class=\"dataframe\">\n",
       "  <thead>\n",
       "    <tr style=\"text-align: right;\">\n",
       "      <th></th>\n",
       "      <th>id</th>\n",
       "      <th>discourse_id</th>\n",
       "      <th>discourse_start</th>\n",
       "      <th>discourse_end</th>\n",
       "      <th>discourse_text</th>\n",
       "      <th>discourse_type</th>\n",
       "      <th>discourse_type_num</th>\n",
       "      <th>predictionstring</th>\n",
       "      <th>f_id</th>\n",
       "    </tr>\n",
       "  </thead>\n",
       "  <tbody>\n",
       "  </tbody>\n",
       "</table>\n",
       "</div>"
      ],
      "text/plain": [
       "Empty DataFrame\n",
       "Columns: [id, discourse_id, discourse_start, discourse_end, discourse_text, discourse_type, discourse_type_num, predictionstring, f_id]\n",
       "Index: []"
      ]
     },
     "execution_count": 3,
     "metadata": {},
     "output_type": "execute_result"
    }
   ],
   "source": [
    "df[df.discourse_id==\"0FB0700DAF44\"]"
   ]
  },
  {
   "cell_type": "code",
   "execution_count": 4,
   "metadata": {},
   "outputs": [],
   "source": [
    "df.head()\n",
    "discource_types = {dtype: idx for idx, dtype in enumerate( sorted(df.discourse_type.unique().tolist()))}\n",
    "num_types = max(discource_types.values())+1\n",
    "discource_types[\"None\"] = num_types"
   ]
  },
  {
   "cell_type": "code",
   "execution_count": 12,
   "metadata": {},
   "outputs": [
    {
     "data": {
      "text/plain": [
       "{'Claim': 0,\n",
       " 'Concluding Statement': 1,\n",
       " 'Counterclaim': 2,\n",
       " 'Evidence': 3,\n",
       " 'Lead': 4,\n",
       " 'Position': 5,\n",
       " 'Rebuttal': 6,\n",
       " 'None': 7}"
      ]
     },
     "execution_count": 12,
     "metadata": {},
     "output_type": "execute_result"
    }
   ],
   "source": [
    "discource_types"
   ]
  },
  {
   "cell_type": "markdown",
   "metadata": {},
   "source": [
    "### Go through train.csv, split each file into sentences and identify percentage of sentences that have 2 or more classes"
   ]
  },
  {
   "cell_type": "code",
   "execution_count": 5,
   "metadata": {},
   "outputs": [],
   "source": [
    "from collections import defaultdict, OrderedDict\n",
    "idx_map = dict()\n",
    "#df = df.query(' id == \"423A1CA112E2\" ')\n",
    "for _, row in df.iterrows():\n",
    "    f_id, f_name, discourse_type, p_string = row[\"f_id\"], row[\"id\"], row[\"discourse_type\"], row[\"predictionstring\"]\n",
    "    preds = [int(p.strip()) for p in p_string.split()]\n",
    "    for p in preds:\n",
    "        idx_map[(f_id, p)] = discourse_type\n",
    "\n",
    "sent_labels = OrderedDict()\n",
    "line_idxs = dict()\n",
    "tot_sents = 0\n",
    "for _, row in df.iterrows():\n",
    "    f_id, f_name, discourse_type, p_string = row[\"f_id\"], row[\"id\"], row[\"discourse_type\"], row[\"predictionstring\"]\n",
    "    with open(f\"../data/train/{f_name}.txt\") as f:\n",
    "        txt = f.read()\n",
    "        w_index = 0\n",
    "        wind_start, wind_end = 0, 0\n",
    "        for s_num, line in enumerate(nltk.sent_tokenize(txt)):\n",
    "            counts = defaultdict(int)\n",
    "            tot_sents += 1\n",
    "            words = line.split()\n",
    "            wind_end += len(words) -1 #we want to save the end word index prior to truncate\n",
    "            if len(words) > 440: # truncate very long sentences so that they can fit into 512 tokens limit\n",
    "                words = line.split()[:440]\n",
    "                line = \" \".join(words)\n",
    "            for i, w in enumerate(words):\n",
    "                if (f_id, w_index) in idx_map:\n",
    "                    counts[idx_map[(f_id, w_index)]] += 1\n",
    "                else:\n",
    "                    counts[\"None\"] += 1\n",
    "                w_index += 1\n",
    "            sent_labels[(f_id, s_num, line)] = [(d_type, count) for d_type, count in counts.items()]\n",
    "            line_idxs[(f_id, s_num, line)] = (wind_start, wind_end)\n",
    "            wind_start = wind_end+1\n"
   ]
  },
  {
   "cell_type": "code",
   "execution_count": 6,
   "metadata": {},
   "outputs": [
    {
     "data": {
      "text/plain": [
       "[('None', 1), ('Lead', 8)]"
      ]
     },
     "execution_count": 6,
     "metadata": {},
     "output_type": "execute_result"
    }
   ],
   "source": [
    "sent_labels[list(sent_labels.keys())[0]]"
   ]
  },
  {
   "cell_type": "markdown",
   "metadata": {},
   "source": [
    "### Less than 1% of sentences have multiple classes. 99% belong to a single class"
   ]
  },
  {
   "cell_type": "code",
   "execution_count": 7,
   "metadata": {},
   "outputs": [
    {
     "name": "stdout",
     "output_type": "stream",
     "text": [
      "Total percentage of sentences that have multiple classes  0.008408270973207461\n"
     ]
    }
   ],
   "source": [
    "print(\"Total percentage of sentences that have multiple classes \", len([s for s, v in sent_labels.items() if len(v) >= 2]) / tot_sents)\n",
    "sent_labels2 = defaultdict(list) # key = filename, value = list of (sentence, label)\n",
    "for s, labels in sent_labels.items():\n",
    "    totcnt = sum([count for d_type, count in labels])\n",
    "    pcts = {d_type:count/totcnt for d_type, count in labels}\n",
    "    maj_dtype = None\n",
    "    mval = None    \n",
    "    for dtype, pct in pcts.items():\n",
    "        if mval is None or mval < pct:\n",
    "            maj_dtype = dtype\n",
    "    sent_labels2[s[0]].append((s[2], maj_dtype, *line_idxs[s]))"
   ]
  },
  {
   "cell_type": "code",
   "execution_count": 8,
   "metadata": {},
   "outputs": [],
   "source": [
    "#sent_labels2[list(sent_labels2.keys())[0]]\n",
    "#print(list(sent_labels2.keys())[0])"
   ]
  },
  {
   "cell_type": "markdown",
   "metadata": {},
   "source": [
    "## Basic model - identify sentences that have some discourse type vs the ones that have none\n",
    "\n",
    "99% of sentences belong to a single class. We will split the text by sentence and build a classifier that looks at each sentence independently as a start\n",
    "\n"
   ]
  },
  {
   "cell_type": "code",
   "execution_count": 9,
   "metadata": {},
   "outputs": [
    {
     "name": "stdout",
     "output_type": "stream",
     "text": [
      "median number of lines 24.0\n",
      "median number of words 387.0\n"
     ]
    }
   ],
   "source": [
    "# find average number of lines in each file\n",
    "import numpy as np\n",
    "\n",
    "linecnts = []\n",
    "wordcnts = []\n",
    "for f_name in list(sent_labels2.keys())[:10]:\n",
    "    linecnt = len(sent_labels2[f_name])\n",
    "    w_cnt = 0\n",
    "    for line in sent_labels2[f_name]:\n",
    "        w_cnt += len(line[0].split())\n",
    "    linecnts.append(linecnt)\n",
    "    wordcnts.append(w_cnt)\n",
    "print(\"median number of lines\", np.median(np.array(linecnts)))\n",
    "print(\"median number of words\", np.median(np.array(wordcnts)))"
   ]
  },
  {
   "cell_type": "markdown",
   "metadata": {},
   "source": [
    "#### Tokenize input per BERT"
   ]
  },
  {
   "cell_type": "code",
   "execution_count": 10,
   "metadata": {},
   "outputs": [],
   "source": [
    "class DataProcessor:\n",
    "    def __init__(self, writings):\n",
    "        klist = list(writings.keys())\n",
    "        random.shuffle(klist)\n",
    "        self.writings = [(k, writings[k]) for k in  klist]\n",
    "        self.tokenizer = BertTokenizer.from_pretrained('bert-base-cased')\n",
    "\n",
    "        self.train_out = []\n",
    "        self.validation_out = []\n",
    "\n",
    "    def split(self):\n",
    "        '''\n",
    "        train, validation and test split by meeting\n",
    "        '''\n",
    "        # split 90-10 train/validation\n",
    "        tr_len = 0.9*len(self.writings)\n",
    "        tr_len = int(round(tr_len))\n",
    "\n",
    "        self.train_list = self.writings[:tr_len]\n",
    "        self.validation_list = self.writings[tr_len:]\n",
    "\n",
    "    \n",
    "    def extract(self, tokens, labels, wbounds):\n",
    "        last_cutoff = None\n",
    "        labs = []\n",
    "        wbd = []\n",
    "        l_idx = 0\n",
    "        for i, v in enumerate(tokens):\n",
    "            if i == 512:\n",
    "                return tokens[:last_cutoff+1], labs, wbd\n",
    "            if v == \"[SEP]\":\n",
    "                last_cutoff = i\n",
    "                labs.append(labels[l_idx])\n",
    "                wbd.append(wbounds[l_idx])\n",
    "                l_idx += 1\n",
    "        return tokens, labs, wbd\n",
    "\n",
    "    def format(self, f_id, chunk, labels, s_wbounds):\n",
    "        cls_vid = self.tokenizer.vocab[\"[CLS]\"]\n",
    "        sep_vid = self.tokenizer.vocab[\"[SEP]\"]\n",
    "\n",
    "        input_ids = self.tokenizer.convert_tokens_to_ids(chunk)\n",
    "        attn_masks = [1]*len(input_ids)\n",
    "        cls_ids = [i for i, t in enumerate(input_ids) if t == cls_vid ]\n",
    "        mask_cls = [1 for _ in range(len(cls_ids))]\n",
    "        wstarts = [st for st, _ in s_wbounds]\n",
    "        wends = [en for _, en in s_wbounds]\n",
    "        oh_labels = [[0]*(num_types+1) for _ in range(512)]\n",
    "        for lnum, lab in enumerate(labels):\n",
    "            oh_labels[lnum][lab] = 1\n",
    "\n",
    "        [attn_masks.append(0) for _ in range(len(attn_masks), 512)]\n",
    "        [input_ids.append(0) for _ in range(len(input_ids), 512)]\n",
    "        [cls_ids.append(0) for _ in range(len(cls_ids), 512)]\n",
    "        [mask_cls.append(0) for _ in range(len(mask_cls), 512)]\n",
    "\n",
    "        _segs = [-1] + [i for i, t in enumerate(input_ids) if t == sep_vid]\n",
    "        segs = [_segs[i] - _segs[i - 1] for i in range(1, len(_segs))]\n",
    "        segments_ids = []\n",
    "        for i, s in enumerate(segs):\n",
    "            if (i % 2 == 0):\n",
    "                segments_ids += s * [0]\n",
    "            else:\n",
    "                segments_ids += s * [1]\n",
    "\n",
    "        #[cur_labels.append(0) for _ in range(len(cur_labels), 512)]\n",
    "        [segments_ids.append(0) for _ in range(len(segments_ids), 512)]\n",
    "        [wstarts.append(0) for _ in range(len(wstarts), 512)]\n",
    "        [wends.append(0) for _ in range(len(wends), 512)]\n",
    "\n",
    "        b_data_dict = {\"id\": f_id, \"src\": input_ids, \"labels\": oh_labels, \"segs\": segments_ids, \n",
    "                    'clss': cls_ids, \"attn\": attn_masks, \"mask_cls\":mask_cls,\n",
    "                    \"wstarts\": wstarts, \"wends\":wends}\n",
    "        return b_data_dict\n",
    "\n",
    "\n",
    "    def format_to_bert(self, args=None):\n",
    "\n",
    "        for ds, ds_out in ((self.train_list, self.train_out), (self.validation_list, self.validation_out)):\n",
    "            for f_id, lines in ds:\n",
    "                tokens = \"\".join([\"[CLS]\".__add__(l).__add__(\"[SEP]\") for l, _, _, _ in lines])\n",
    "                labels = [discource_types[lab] for _, lab, _, _ in lines]\n",
    "                    \n",
    "                w_bounds = [(wstart, wend) for _, _, wstart, wend in lines]\n",
    "                remain = self.tokenizer.tokenize(tokens)\n",
    "                while len(remain) != 0:\n",
    "                    tmp_tokens, tmp_labels, tmp_wbounds = self.extract(remain, labels, w_bounds)\n",
    "                    remain = remain[len(tmp_tokens):]\n",
    "                    labels = labels[len(tmp_labels):]\n",
    "                    w_bounds = w_bounds[len(tmp_wbounds):]\n",
    "                    ds_out.append(self.format(f_id, tmp_tokens, tmp_labels, tmp_wbounds))\n",
    "\n",
    "    def save(self, out_dir):\n",
    "        if not os.path.exists(out_dir):\n",
    "            os.makedirs(out_dir)\n",
    "\n",
    "        for batch, ds in ((\"train\", self.train_out), (\"validation\", self.validation_out)):\n",
    "            out = dict()\n",
    "            for k, v in ds[0].items():\n",
    "                out[k] = []\n",
    "\n",
    "            for sample in ds:\n",
    "                for key, val in sample.items():\n",
    "                    out[key].append(val)\n",
    "            for k, v in out.items():\n",
    "                out[k] = torch.LongTensor(v)\n",
    "            for k, v in out.items():\n",
    "                torch.save(v, out_dir+\"/\"+k+\"_\"+batch+\".pt\")\n",
    "\n",
    "\n",
    "dp = DataProcessor(sent_labels2)\n",
    "dp.split()\n",
    "dp.format_to_bert()"
   ]
  },
  {
   "cell_type": "code",
   "execution_count": 11,
   "metadata": {},
   "outputs": [],
   "source": [
    "dp.save(\"C:/Users/rajiv/dev/evalwriting/inputs\")"
   ]
  },
  {
   "cell_type": "code",
   "execution_count": null,
   "metadata": {},
   "outputs": [],
   "source": []
  },
  {
   "cell_type": "markdown",
   "metadata": {},
   "source": []
  }
 ],
 "metadata": {
  "kernelspec": {
   "display_name": "Python 3",
   "language": "python",
   "name": "python3"
  },
  "language_info": {
   "codemirror_mode": {
    "name": "ipython",
    "version": 3
   },
   "file_extension": ".py",
   "mimetype": "text/x-python",
   "name": "python",
   "nbconvert_exporter": "python",
   "pygments_lexer": "ipython3",
   "version": "3.9.10"
  }
 },
 "nbformat": 4,
 "nbformat_minor": 2
}
